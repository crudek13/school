{
 "cells": [
  {
   "cell_type": "markdown",
   "id": "d05e67f8",
   "metadata": {},
   "source": [
    "##Final Exam"
   ]
  },
  {
   "cell_type": "code",
   "execution_count": 1,
   "id": "a130af25",
   "metadata": {},
   "outputs": [],
   "source": [
    "import pandas as pd\n",
    "import numpy as np\n",
    "import matplotlib.pyplot as plt\n",
    "import sqlite3\n",
    "import seaborn as sns\n",
    "from datetime import date\n",
    "\n",
    "import warnings\n",
    "warnings.filterwarnings(\"ignore\")"
   ]
  },
  {
   "cell_type": "code",
   "execution_count": 3,
   "id": "d9d021f7",
   "metadata": {},
   "outputs": [],
   "source": [
    "my_statement = \"The Ohio State University\" "
   ]
  },
  {
   "cell_type": "code",
   "execution_count": 8,
   "id": "b6fa0b07",
   "metadata": {},
   "outputs": [
    {
     "data": {
      "text/plain": [
       "'versity'"
      ]
     },
     "execution_count": 8,
     "metadata": {},
     "output_type": "execute_result"
    }
   ],
   "source": [
    "my_statement[18:25]"
   ]
  },
  {
   "cell_type": "code",
   "execution_count": 14,
   "id": "3deba1ca",
   "metadata": {},
   "outputs": [
    {
     "ename": "SyntaxError",
     "evalue": "invalid syntax (4243106585.py, line 16)",
     "output_type": "error",
     "traceback": [
      "\u001b[1;36m  File \u001b[1;32m\"C:\\Users\\crudek\\AppData\\Local\\Temp\\ipykernel_34972\\4243106585.py\"\u001b[1;36m, line \u001b[1;32m16\u001b[0m\n\u001b[1;33m    print(\"I like this quote 'We need much less than we think we need.\" by Maya Angelou\")\u001b[0m\n\u001b[1;37m                                                                        ^\u001b[0m\n\u001b[1;31mSyntaxError\u001b[0m\u001b[1;31m:\u001b[0m invalid syntax\n"
     ]
    }
   ],
   "source": [
    "#print(\"I like this quote 'We need much less than we think we need.' by Maya Angelou\")\n",
    "\n",
    "\n",
    "#print('''I like this quote 'We need much less than we think we need.' by Maya Angelou''')\n",
    "\n",
    "\n",
    "#print('''I like this quote \"We need much less than we think we need.\" by Maya Angelou''')\n",
    "\n",
    "\n",
    "#print(\"I like this quote \"We need much less than we think we need.' by Maya Angelou\")\n",
    "\n",
    "\n",
    "#print('''I like this quote \"We need much less than we think we need.' by Maya Angelou''')\n",
    "\n",
    "\n",
    "print(\"I like this quote 'We need much less than we think we need.\" by Maya Angelou\")"
   ]
  },
  {
   "cell_type": "code",
   "execution_count": 24,
   "id": "8fa8b072",
   "metadata": {},
   "outputs": [
    {
     "name": "stdout",
     "output_type": "stream",
     "text": [
      "['Alabama', 'Arkansas']\n"
     ]
    }
   ],
   "source": [
    "my_states = [\"Alabama\", \"Alaska\", \"Arizona\", \"Arkansas\"]\n",
    "print([my_states[0],my_states[-1]])"
   ]
  },
  {
   "cell_type": "code",
   "execution_count": 32,
   "id": "1fdbad11",
   "metadata": {},
   "outputs": [
    {
     "data": {
      "text/html": [
       "<div>\n",
       "<style scoped>\n",
       "    .dataframe tbody tr th:only-of-type {\n",
       "        vertical-align: middle;\n",
       "    }\n",
       "\n",
       "    .dataframe tbody tr th {\n",
       "        vertical-align: top;\n",
       "    }\n",
       "\n",
       "    .dataframe thead th {\n",
       "        text-align: right;\n",
       "    }\n",
       "</style>\n",
       "<table border=\"1\" class=\"dataframe\">\n",
       "  <thead>\n",
       "    <tr style=\"text-align: right;\">\n",
       "      <th></th>\n",
       "      <th>A</th>\n",
       "      <th>B</th>\n",
       "      <th>C</th>\n",
       "    </tr>\n",
       "  </thead>\n",
       "  <tbody>\n",
       "    <tr>\n",
       "      <th>0</th>\n",
       "      <td>NaN</td>\n",
       "      <td>NaN</td>\n",
       "      <td>NaN</td>\n",
       "    </tr>\n",
       "    <tr>\n",
       "      <th>1</th>\n",
       "      <td>1.0</td>\n",
       "      <td>11.0</td>\n",
       "      <td>111.0</td>\n",
       "    </tr>\n",
       "    <tr>\n",
       "      <th>2</th>\n",
       "      <td>2.0</td>\n",
       "      <td>22.0</td>\n",
       "      <td>222.0</td>\n",
       "    </tr>\n",
       "    <tr>\n",
       "      <th>3</th>\n",
       "      <td>3.0</td>\n",
       "      <td>33.0</td>\n",
       "      <td>333.0</td>\n",
       "    </tr>\n",
       "  </tbody>\n",
       "</table>\n",
       "</div>"
      ],
      "text/plain": [
       "     A     B      C\n",
       "0  NaN   NaN    NaN\n",
       "1  1.0  11.0  111.0\n",
       "2  2.0  22.0  222.0\n",
       "3  3.0  33.0  333.0"
      ]
     },
     "execution_count": 32,
     "metadata": {},
     "output_type": "execute_result"
    }
   ],
   "source": [
    "my_table1 = pd.DataFrame ({'A':[np.nan, 1, 2,3],'B':[np.nan, 11, 22,33],'C':[np.nan, 111, 222,333]})\n",
    "my_table1"
   ]
  },
  {
   "cell_type": "code",
   "execution_count": 40,
   "id": "34353af8",
   "metadata": {},
   "outputs": [
    {
     "data": {
      "text/html": [
       "<div>\n",
       "<style scoped>\n",
       "    .dataframe tbody tr th:only-of-type {\n",
       "        vertical-align: middle;\n",
       "    }\n",
       "\n",
       "    .dataframe tbody tr th {\n",
       "        vertical-align: top;\n",
       "    }\n",
       "\n",
       "    .dataframe thead th {\n",
       "        text-align: right;\n",
       "    }\n",
       "</style>\n",
       "<table border=\"1\" class=\"dataframe\">\n",
       "  <thead>\n",
       "    <tr style=\"text-align: right;\">\n",
       "      <th></th>\n",
       "      <th>A</th>\n",
       "      <th>B</th>\n",
       "      <th>C</th>\n",
       "    </tr>\n",
       "  </thead>\n",
       "  <tbody>\n",
       "    <tr>\n",
       "      <th>0</th>\n",
       "      <td>2.0</td>\n",
       "      <td>22.0</td>\n",
       "      <td>0.0</td>\n",
       "    </tr>\n",
       "    <tr>\n",
       "      <th>1</th>\n",
       "      <td>1.0</td>\n",
       "      <td>11.0</td>\n",
       "      <td>111.0</td>\n",
       "    </tr>\n",
       "    <tr>\n",
       "      <th>2</th>\n",
       "      <td>2.0</td>\n",
       "      <td>22.0</td>\n",
       "      <td>222.0</td>\n",
       "    </tr>\n",
       "    <tr>\n",
       "      <th>3</th>\n",
       "      <td>3.0</td>\n",
       "      <td>33.0</td>\n",
       "      <td>333.0</td>\n",
       "    </tr>\n",
       "  </tbody>\n",
       "</table>\n",
       "</div>"
      ],
      "text/plain": [
       "     A     B      C\n",
       "0  2.0  22.0    0.0\n",
       "1  1.0  11.0  111.0\n",
       "2  2.0  22.0  222.0\n",
       "3  3.0  33.0  333.0"
      ]
     },
     "execution_count": 40,
     "metadata": {},
     "output_type": "execute_result"
    }
   ],
   "source": [
    "my_table1.fillna({'A':my_table1['A'].mean(), 'B':my_table1['B'].median(), 'C': 0}, inplace = True)\n",
    "my_table1"
   ]
  },
  {
   "cell_type": "code",
   "execution_count": 43,
   "id": "cdbb92d2",
   "metadata": {},
   "outputs": [
    {
     "data": {
      "text/html": [
       "<div>\n",
       "<style scoped>\n",
       "    .dataframe tbody tr th:only-of-type {\n",
       "        vertical-align: middle;\n",
       "    }\n",
       "\n",
       "    .dataframe tbody tr th {\n",
       "        vertical-align: top;\n",
       "    }\n",
       "\n",
       "    .dataframe thead th {\n",
       "        text-align: right;\n",
       "    }\n",
       "</style>\n",
       "<table border=\"1\" class=\"dataframe\">\n",
       "  <thead>\n",
       "    <tr style=\"text-align: right;\">\n",
       "      <th></th>\n",
       "      <th>Product</th>\n",
       "      <th>Quantity</th>\n",
       "      <th>Furniture</th>\n",
       "    </tr>\n",
       "  </thead>\n",
       "  <tbody>\n",
       "    <tr>\n",
       "      <th>0</th>\n",
       "      <td>1</td>\n",
       "      <td>4</td>\n",
       "      <td>chair</td>\n",
       "    </tr>\n",
       "    <tr>\n",
       "      <th>1</th>\n",
       "      <td>2</td>\n",
       "      <td>5</td>\n",
       "      <td>table</td>\n",
       "    </tr>\n",
       "    <tr>\n",
       "      <th>2</th>\n",
       "      <td>3</td>\n",
       "      <td>6</td>\n",
       "      <td>bench</td>\n",
       "    </tr>\n",
       "  </tbody>\n",
       "</table>\n",
       "</div>"
      ],
      "text/plain": [
       "   Product  Quantity Furniture\n",
       "0        1         4     chair\n",
       "1        2         5     table\n",
       "2        3         6     bench"
      ]
     },
     "execution_count": 43,
     "metadata": {},
     "output_type": "execute_result"
    }
   ],
   "source": [
    "df1 = pd.DataFrame([[1,4,'chair'], [2,5,'table'], [3,6,'bench']], columns = ['Product', 'Quantity', 'Furniture'])\n",
    "df1"
   ]
  },
  {
   "cell_type": "code",
   "execution_count": 44,
   "id": "a8b446c5",
   "metadata": {},
   "outputs": [
    {
     "data": {
      "text/html": [
       "<div>\n",
       "<style scoped>\n",
       "    .dataframe tbody tr th:only-of-type {\n",
       "        vertical-align: middle;\n",
       "    }\n",
       "\n",
       "    .dataframe tbody tr th {\n",
       "        vertical-align: top;\n",
       "    }\n",
       "\n",
       "    .dataframe thead th {\n",
       "        text-align: right;\n",
       "    }\n",
       "</style>\n",
       "<table border=\"1\" class=\"dataframe\">\n",
       "  <thead>\n",
       "    <tr style=\"text-align: right;\">\n",
       "      <th></th>\n",
       "      <th>Product</th>\n",
       "      <th>Quantity</th>\n",
       "      <th>Furniture</th>\n",
       "    </tr>\n",
       "  </thead>\n",
       "  <tbody>\n",
       "    <tr>\n",
       "      <th>0</th>\n",
       "      <td>1</td>\n",
       "      <td>4</td>\n",
       "      <td>chair</td>\n",
       "    </tr>\n",
       "    <tr>\n",
       "      <th>1</th>\n",
       "      <td>2</td>\n",
       "      <td>5</td>\n",
       "      <td>table</td>\n",
       "    </tr>\n",
       "    <tr>\n",
       "      <th>2</th>\n",
       "      <td>3</td>\n",
       "      <td>6</td>\n",
       "      <td>bench</td>\n",
       "    </tr>\n",
       "  </tbody>\n",
       "</table>\n",
       "</div>"
      ],
      "text/plain": [
       "   Product  Quantity Furniture\n",
       "0        1         4     chair\n",
       "1        2         5     table\n",
       "2        3         6     bench"
      ]
     },
     "execution_count": 44,
     "metadata": {},
     "output_type": "execute_result"
    }
   ],
   "source": [
    "d2 = {\n",
    "    \"Product\": [1,2,3],\n",
    "    \"Quantity\": [4,5,6],\n",
    "    \"Furniture\": ['chair', 'table', 'bench']\n",
    "}\n",
    "df2 = pd.DataFrame(d2)\n",
    "df2"
   ]
  },
  {
   "cell_type": "code",
   "execution_count": 50,
   "id": "0ddc22a1",
   "metadata": {},
   "outputs": [
    {
     "data": {
      "text/html": [
       "<div>\n",
       "<style scoped>\n",
       "    .dataframe tbody tr th:only-of-type {\n",
       "        vertical-align: middle;\n",
       "    }\n",
       "\n",
       "    .dataframe tbody tr th {\n",
       "        vertical-align: top;\n",
       "    }\n",
       "\n",
       "    .dataframe thead th {\n",
       "        text-align: right;\n",
       "    }\n",
       "</style>\n",
       "<table border=\"1\" class=\"dataframe\">\n",
       "  <thead>\n",
       "    <tr style=\"text-align: right;\">\n",
       "      <th></th>\n",
       "      <th>store</th>\n",
       "      <th>customer</th>\n",
       "      <th>price</th>\n",
       "      <th>quantity</th>\n",
       "    </tr>\n",
       "  </thead>\n",
       "  <tbody>\n",
       "    <tr>\n",
       "      <th>0</th>\n",
       "      <td>1</td>\n",
       "      <td>A</td>\n",
       "      <td>4</td>\n",
       "      <td>10</td>\n",
       "    </tr>\n",
       "    <tr>\n",
       "      <th>1</th>\n",
       "      <td>1</td>\n",
       "      <td>B</td>\n",
       "      <td>5</td>\n",
       "      <td>20</td>\n",
       "    </tr>\n",
       "    <tr>\n",
       "      <th>2</th>\n",
       "      <td>1</td>\n",
       "      <td>C</td>\n",
       "      <td>6</td>\n",
       "      <td>30</td>\n",
       "    </tr>\n",
       "    <tr>\n",
       "      <th>3</th>\n",
       "      <td>2</td>\n",
       "      <td>A</td>\n",
       "      <td>1</td>\n",
       "      <td>70</td>\n",
       "    </tr>\n",
       "    <tr>\n",
       "      <th>4</th>\n",
       "      <td>2</td>\n",
       "      <td>B</td>\n",
       "      <td>2</td>\n",
       "      <td>60</td>\n",
       "    </tr>\n",
       "    <tr>\n",
       "      <th>5</th>\n",
       "      <td>2</td>\n",
       "      <td>C</td>\n",
       "      <td>3</td>\n",
       "      <td>50</td>\n",
       "    </tr>\n",
       "  </tbody>\n",
       "</table>\n",
       "</div>"
      ],
      "text/plain": [
       "   store customer  price  quantity\n",
       "0      1        A      4        10\n",
       "1      1        B      5        20\n",
       "2      1        C      6        30\n",
       "3      2        A      1        70\n",
       "4      2        B      2        60\n",
       "5      2        C      3        50"
      ]
     },
     "execution_count": 50,
     "metadata": {},
     "output_type": "execute_result"
    }
   ],
   "source": [
    "me =pd.DataFrame([[1, 'A', 4, 10], [1, 'B', 5, 20], [1, 'C', 6, 30], [2, 'A', 1, 70], [2, 'B', 2, 60], [2, 'C', 3, 50]], \\\n",
    "                columns = ['store', 'customer', 'price', 'quantity'])\n",
    "me"
   ]
  },
  {
   "cell_type": "code",
   "execution_count": 52,
   "id": "86e9704b",
   "metadata": {
    "scrolled": true
   },
   "outputs": [
    {
     "data": {
      "text/html": [
       "<div>\n",
       "<style scoped>\n",
       "    .dataframe tbody tr th:only-of-type {\n",
       "        vertical-align: middle;\n",
       "    }\n",
       "\n",
       "    .dataframe tbody tr th {\n",
       "        vertical-align: top;\n",
       "    }\n",
       "\n",
       "    .dataframe thead th {\n",
       "        text-align: right;\n",
       "    }\n",
       "</style>\n",
       "<table border=\"1\" class=\"dataframe\">\n",
       "  <thead>\n",
       "    <tr style=\"text-align: right;\">\n",
       "      <th></th>\n",
       "      <th>store</th>\n",
       "      <th>customer</th>\n",
       "      <th>price</th>\n",
       "      <th>quantity</th>\n",
       "      <th>sales</th>\n",
       "    </tr>\n",
       "  </thead>\n",
       "  <tbody>\n",
       "    <tr>\n",
       "      <th>0</th>\n",
       "      <td>1</td>\n",
       "      <td>A</td>\n",
       "      <td>4</td>\n",
       "      <td>10</td>\n",
       "      <td>40</td>\n",
       "    </tr>\n",
       "    <tr>\n",
       "      <th>1</th>\n",
       "      <td>1</td>\n",
       "      <td>B</td>\n",
       "      <td>5</td>\n",
       "      <td>20</td>\n",
       "      <td>100</td>\n",
       "    </tr>\n",
       "    <tr>\n",
       "      <th>2</th>\n",
       "      <td>1</td>\n",
       "      <td>C</td>\n",
       "      <td>6</td>\n",
       "      <td>30</td>\n",
       "      <td>180</td>\n",
       "    </tr>\n",
       "    <tr>\n",
       "      <th>3</th>\n",
       "      <td>2</td>\n",
       "      <td>A</td>\n",
       "      <td>1</td>\n",
       "      <td>70</td>\n",
       "      <td>70</td>\n",
       "    </tr>\n",
       "    <tr>\n",
       "      <th>4</th>\n",
       "      <td>2</td>\n",
       "      <td>B</td>\n",
       "      <td>2</td>\n",
       "      <td>60</td>\n",
       "      <td>120</td>\n",
       "    </tr>\n",
       "    <tr>\n",
       "      <th>5</th>\n",
       "      <td>2</td>\n",
       "      <td>C</td>\n",
       "      <td>3</td>\n",
       "      <td>50</td>\n",
       "      <td>150</td>\n",
       "    </tr>\n",
       "  </tbody>\n",
       "</table>\n",
       "</div>"
      ],
      "text/plain": [
       "   store customer  price  quantity  sales\n",
       "0      1        A      4        10     40\n",
       "1      1        B      5        20    100\n",
       "2      1        C      6        30    180\n",
       "3      2        A      1        70     70\n",
       "4      2        B      2        60    120\n",
       "5      2        C      3        50    150"
      ]
     },
     "execution_count": 52,
     "metadata": {},
     "output_type": "execute_result"
    }
   ],
   "source": [
    "me['sales'] = [40, 100, 180, 70, 120, 150]\n",
    "me"
   ]
  },
  {
   "cell_type": "code",
   "execution_count": 53,
   "id": "b4d90fbd",
   "metadata": {},
   "outputs": [],
   "source": [
    "me = me.assign(discount_price = lambda x: x['price'] - (x['price']*.05))"
   ]
  },
  {
   "cell_type": "code",
   "execution_count": 57,
   "id": "91554df6",
   "metadata": {},
   "outputs": [],
   "source": [
    "me['sales_group'] = me['sales'].apply(lambda x: 'high' if x >= 150 else ('low' if x < 100 else 'medium'))"
   ]
  },
  {
   "cell_type": "code",
   "execution_count": 61,
   "id": "7d5e04ff",
   "metadata": {},
   "outputs": [],
   "source": [
    "me['cust_sales_group'] = me['customer'] + \"_\" + me['sales_group']"
   ]
  },
  {
   "cell_type": "code",
   "execution_count": 89,
   "id": "c4f2f59c",
   "metadata": {},
   "outputs": [
    {
     "data": {
      "text/html": [
       "<div>\n",
       "<style scoped>\n",
       "    .dataframe tbody tr th:only-of-type {\n",
       "        vertical-align: middle;\n",
       "    }\n",
       "\n",
       "    .dataframe tbody tr th {\n",
       "        vertical-align: top;\n",
       "    }\n",
       "\n",
       "    .dataframe thead th {\n",
       "        text-align: right;\n",
       "    }\n",
       "</style>\n",
       "<table border=\"1\" class=\"dataframe\">\n",
       "  <thead>\n",
       "    <tr style=\"text-align: right;\">\n",
       "      <th></th>\n",
       "      <th>store</th>\n",
       "      <th>quantity</th>\n",
       "    </tr>\n",
       "  </thead>\n",
       "  <tbody>\n",
       "    <tr>\n",
       "      <th>0</th>\n",
       "      <td>2</td>\n",
       "      <td>180</td>\n",
       "    </tr>\n",
       "  </tbody>\n",
       "</table>\n",
       "</div>"
      ],
      "text/plain": [
       "   store  quantity\n",
       "0      2       180"
      ]
     },
     "execution_count": 89,
     "metadata": {},
     "output_type": "execute_result"
    }
   ],
   "source": [
    "me2 = me.groupby('store').sum().sort_values('sales', ascending = False).head(1).reset_index()\n",
    "me2[['store', 'quantity']]"
   ]
  },
  {
   "cell_type": "code",
   "execution_count": 99,
   "id": "7a99af30",
   "metadata": {},
   "outputs": [],
   "source": [
    "me3 = me[(me.store == 2)].sort_values('quantity', ascending = False).head(1)\n",
    "me3[['store', 'quantity']]"
   ]
  },
  {
   "cell_type": "code",
   "execution_count": 103,
   "id": "e93868f4",
   "metadata": {},
   "outputs": [
    {
     "data": {
      "text/html": [
       "<div>\n",
       "<style scoped>\n",
       "    .dataframe tbody tr th:only-of-type {\n",
       "        vertical-align: middle;\n",
       "    }\n",
       "\n",
       "    .dataframe tbody tr th {\n",
       "        vertical-align: top;\n",
       "    }\n",
       "\n",
       "    .dataframe thead th {\n",
       "        text-align: right;\n",
       "    }\n",
       "</style>\n",
       "<table border=\"1\" class=\"dataframe\">\n",
       "  <thead>\n",
       "    <tr style=\"text-align: right;\">\n",
       "      <th></th>\n",
       "      <th>store</th>\n",
       "      <th>customer</th>\n",
       "      <th>sales</th>\n",
       "      <th>discount_price</th>\n",
       "    </tr>\n",
       "  </thead>\n",
       "  <tbody>\n",
       "    <tr>\n",
       "      <th>2</th>\n",
       "      <td>1</td>\n",
       "      <td>C</td>\n",
       "      <td>180</td>\n",
       "      <td>5.7</td>\n",
       "    </tr>\n",
       "  </tbody>\n",
       "</table>\n",
       "</div>"
      ],
      "text/plain": [
       "   store customer  sales  discount_price\n",
       "2      1        C    180             5.7"
      ]
     },
     "execution_count": 103,
     "metadata": {},
     "output_type": "execute_result"
    }
   ],
   "source": [
    "me4 = me[(me.store == 1) & (me.customer == \"C\")]\n",
    "me4[['store', 'customer', 'sales', 'discount_price']]"
   ]
  },
  {
   "cell_type": "code",
   "execution_count": 108,
   "id": "1c3f5859",
   "metadata": {},
   "outputs": [
    {
     "data": {
      "text/html": [
       "<div>\n",
       "<style scoped>\n",
       "    .dataframe tbody tr th:only-of-type {\n",
       "        vertical-align: middle;\n",
       "    }\n",
       "\n",
       "    .dataframe tbody tr th {\n",
       "        vertical-align: top;\n",
       "    }\n",
       "\n",
       "    .dataframe thead th {\n",
       "        text-align: right;\n",
       "    }\n",
       "</style>\n",
       "<table border=\"1\" class=\"dataframe\">\n",
       "  <thead>\n",
       "    <tr style=\"text-align: right;\">\n",
       "      <th></th>\n",
       "      <th></th>\n",
       "      <th>mean_quantity</th>\n",
       "      <th>mean_sales</th>\n",
       "    </tr>\n",
       "    <tr>\n",
       "      <th>store</th>\n",
       "      <th>customer</th>\n",
       "      <th></th>\n",
       "      <th></th>\n",
       "    </tr>\n",
       "  </thead>\n",
       "  <tbody>\n",
       "    <tr>\n",
       "      <th rowspan=\"3\" valign=\"top\">1</th>\n",
       "      <th>A</th>\n",
       "      <td>10.0</td>\n",
       "      <td>40.0</td>\n",
       "    </tr>\n",
       "    <tr>\n",
       "      <th>B</th>\n",
       "      <td>20.0</td>\n",
       "      <td>100.0</td>\n",
       "    </tr>\n",
       "    <tr>\n",
       "      <th>C</th>\n",
       "      <td>30.0</td>\n",
       "      <td>180.0</td>\n",
       "    </tr>\n",
       "    <tr>\n",
       "      <th rowspan=\"3\" valign=\"top\">2</th>\n",
       "      <th>A</th>\n",
       "      <td>70.0</td>\n",
       "      <td>70.0</td>\n",
       "    </tr>\n",
       "    <tr>\n",
       "      <th>B</th>\n",
       "      <td>60.0</td>\n",
       "      <td>120.0</td>\n",
       "    </tr>\n",
       "    <tr>\n",
       "      <th>C</th>\n",
       "      <td>50.0</td>\n",
       "      <td>150.0</td>\n",
       "    </tr>\n",
       "  </tbody>\n",
       "</table>\n",
       "</div>"
      ],
      "text/plain": [
       "                mean_quantity  mean_sales\n",
       "store customer                           \n",
       "1     A                  10.0        40.0\n",
       "      B                  20.0       100.0\n",
       "      C                  30.0       180.0\n",
       "2     A                  70.0        70.0\n",
       "      B                  60.0       120.0\n",
       "      C                  50.0       150.0"
      ]
     },
     "execution_count": 108,
     "metadata": {},
     "output_type": "execute_result"
    }
   ],
   "source": [
    "me5 = me.groupby(['store', 'customer']).agg({'quantity':\"mean\", 'sales':\"mean\"})\\\n",
    ".rename(columns={'store':'store', 'customer': 'customer', 'quantity':'mean_quantity', 'sales':'mean_sales'})\n",
    "me5"
   ]
  },
  {
   "cell_type": "code",
   "execution_count": 112,
   "id": "6821cc21",
   "metadata": {},
   "outputs": [
    {
     "data": {
      "text/plain": [
       "<AxesSubplot:>"
      ]
     },
     "execution_count": 112,
     "metadata": {},
     "output_type": "execute_result"
    },
    {
     "data": {
      "image/png": "[encoded data removed]",
      "text/plain": [
       "<Figure size 1100x900 with 2 Axes>"
      ]
     },
     "metadata": {},
     "output_type": "display_data"
    }
   ],
   "source": [
    "me6 = me[['price', 'quantity', 'sales', 'discount_price']]\n",
    "corr = me6.corr()\n",
    "mask = np.triu(np.ones_like(corr, dtype=bool))\n",
    "f, ax = plt.subplots(figsize=(11, 9))\n",
    "cmap = sns.diverging_palette(230, 20, as_cmap=True)\n",
    "sns.heatmap(corr, mask=mask, annot=True, cmap='RdYlGn',\n",
    "vmax=.3, center=0,\n",
    "square=True, linewidths=.5, cbar_kws={\"shrink\": .5})"
   ]
  },
  {
   "cell_type": "code",
   "execution_count": 113,
   "id": "3e3e9d67",
   "metadata": {},
   "outputs": [
    {
     "data": {
      "text/html": [
       "<div>\n",
       "<style scoped>\n",
       "    .dataframe tbody tr th:only-of-type {\n",
       "        vertical-align: middle;\n",
       "    }\n",
       "\n",
       "    .dataframe tbody tr th {\n",
       "        vertical-align: top;\n",
       "    }\n",
       "\n",
       "    .dataframe thead th {\n",
       "        text-align: right;\n",
       "    }\n",
       "</style>\n",
       "<table border=\"1\" class=\"dataframe\">\n",
       "  <thead>\n",
       "    <tr style=\"text-align: right;\">\n",
       "      <th></th>\n",
       "      <th>store</th>\n",
       "      <th>customer</th>\n",
       "      <th>price</th>\n",
       "      <th>quantity</th>\n",
       "      <th>sales</th>\n",
       "      <th>discount_price</th>\n",
       "      <th>sales_group</th>\n",
       "      <th>cust_sales_group</th>\n",
       "    </tr>\n",
       "  </thead>\n",
       "  <tbody>\n",
       "    <tr>\n",
       "      <th>2</th>\n",
       "      <td>1</td>\n",
       "      <td>C</td>\n",
       "      <td>6</td>\n",
       "      <td>30</td>\n",
       "      <td>180</td>\n",
       "      <td>5.70</td>\n",
       "      <td>high</td>\n",
       "      <td>C_high</td>\n",
       "    </tr>\n",
       "    <tr>\n",
       "      <th>3</th>\n",
       "      <td>2</td>\n",
       "      <td>A</td>\n",
       "      <td>1</td>\n",
       "      <td>70</td>\n",
       "      <td>70</td>\n",
       "      <td>0.95</td>\n",
       "      <td>low</td>\n",
       "      <td>A_low</td>\n",
       "    </tr>\n",
       "    <tr>\n",
       "      <th>4</th>\n",
       "      <td>2</td>\n",
       "      <td>B</td>\n",
       "      <td>2</td>\n",
       "      <td>60</td>\n",
       "      <td>120</td>\n",
       "      <td>1.90</td>\n",
       "      <td>medium</td>\n",
       "      <td>B_medium</td>\n",
       "    </tr>\n",
       "  </tbody>\n",
       "</table>\n",
       "</div>"
      ],
      "text/plain": [
       "   store customer  price  quantity  sales  discount_price sales_group  \\\n",
       "2      1        C      6        30    180            5.70        high   \n",
       "3      2        A      1        70     70            0.95         low   \n",
       "4      2        B      2        60    120            1.90      medium   \n",
       "\n",
       "  cust_sales_group  \n",
       "2           C_high  \n",
       "3            A_low  \n",
       "4         B_medium  "
      ]
     },
     "execution_count": 113,
     "metadata": {},
     "output_type": "execute_result"
    }
   ],
   "source": [
    "me.groupby('sales_group', group_keys = False).apply(lambda x: x.sample(min(len(x),1)))"
   ]
  },
  {
   "cell_type": "code",
   "execution_count": 114,
   "id": "037a6860",
   "metadata": {},
   "outputs": [],
   "source": [
    "c = np.random.choice(me.sales_group.unique(), size=1, replace=False)\n",
    "me7 = me[me['sales_group'].isin(c)]"
   ]
  },
  {
   "cell_type": "code",
   "execution_count": 117,
   "id": "69e28ae0",
   "metadata": {},
   "outputs": [
    {
     "data": {
      "text/html": [
       "<div>\n",
       "<style scoped>\n",
       "    .dataframe tbody tr th:only-of-type {\n",
       "        vertical-align: middle;\n",
       "    }\n",
       "\n",
       "    .dataframe tbody tr th {\n",
       "        vertical-align: top;\n",
       "    }\n",
       "\n",
       "    .dataframe thead th {\n",
       "        text-align: right;\n",
       "    }\n",
       "</style>\n",
       "<table border=\"1\" class=\"dataframe\">\n",
       "  <thead>\n",
       "    <tr style=\"text-align: right;\">\n",
       "      <th></th>\n",
       "      <th>store</th>\n",
       "      <th>customer</th>\n",
       "      <th>price</th>\n",
       "      <th>quantity</th>\n",
       "      <th>sales</th>\n",
       "      <th>discount_price</th>\n",
       "      <th>sales_group</th>\n",
       "      <th>cust_sales_group</th>\n",
       "    </tr>\n",
       "  </thead>\n",
       "  <tbody>\n",
       "    <tr>\n",
       "      <th>0</th>\n",
       "      <td>1</td>\n",
       "      <td>A</td>\n",
       "      <td>4</td>\n",
       "      <td>10</td>\n",
       "      <td>40</td>\n",
       "      <td>3.80</td>\n",
       "      <td>low</td>\n",
       "      <td>A_low</td>\n",
       "    </tr>\n",
       "    <tr>\n",
       "      <th>1</th>\n",
       "      <td>1</td>\n",
       "      <td>B</td>\n",
       "      <td>5</td>\n",
       "      <td>20</td>\n",
       "      <td>100</td>\n",
       "      <td>4.75</td>\n",
       "      <td>medium</td>\n",
       "      <td>B_medium</td>\n",
       "    </tr>\n",
       "    <tr>\n",
       "      <th>2</th>\n",
       "      <td>1</td>\n",
       "      <td>C</td>\n",
       "      <td>6</td>\n",
       "      <td>30</td>\n",
       "      <td>180</td>\n",
       "      <td>5.70</td>\n",
       "      <td>high</td>\n",
       "      <td>C_high</td>\n",
       "    </tr>\n",
       "    <tr>\n",
       "      <th>3</th>\n",
       "      <td>2</td>\n",
       "      <td>A</td>\n",
       "      <td>1</td>\n",
       "      <td>70</td>\n",
       "      <td>70</td>\n",
       "      <td>0.95</td>\n",
       "      <td>low</td>\n",
       "      <td>A_low</td>\n",
       "    </tr>\n",
       "    <tr>\n",
       "      <th>4</th>\n",
       "      <td>2</td>\n",
       "      <td>B</td>\n",
       "      <td>2</td>\n",
       "      <td>60</td>\n",
       "      <td>120</td>\n",
       "      <td>1.90</td>\n",
       "      <td>medium</td>\n",
       "      <td>B_medium</td>\n",
       "    </tr>\n",
       "    <tr>\n",
       "      <th>5</th>\n",
       "      <td>2</td>\n",
       "      <td>C</td>\n",
       "      <td>3</td>\n",
       "      <td>50</td>\n",
       "      <td>150</td>\n",
       "      <td>2.85</td>\n",
       "      <td>high</td>\n",
       "      <td>C_high</td>\n",
       "    </tr>\n",
       "  </tbody>\n",
       "</table>\n",
       "</div>"
      ],
      "text/plain": [
       "   store customer  price  quantity  sales  discount_price sales_group  \\\n",
       "0      1        A      4        10     40            3.80         low   \n",
       "1      1        B      5        20    100            4.75      medium   \n",
       "2      1        C      6        30    180            5.70        high   \n",
       "3      2        A      1        70     70            0.95         low   \n",
       "4      2        B      2        60    120            1.90      medium   \n",
       "5      2        C      3        50    150            2.85        high   \n",
       "\n",
       "  cust_sales_group  \n",
       "0            A_low  \n",
       "1         B_medium  \n",
       "2           C_high  \n",
       "3            A_low  \n",
       "4         B_medium  \n",
       "5           C_high  "
      ]
     },
     "execution_count": 117,
     "metadata": {},
     "output_type": "execute_result"
    }
   ],
   "source": [
    "me.filter"
   ]
  },
  {
   "cell_type": "code",
   "execution_count": 118,
   "id": "87c1374d",
   "metadata": {},
   "outputs": [],
   "source": [
    "gender=['male','female']\n",
    "customer=[\"Smith\", 'Jenny']"
   ]
  },
  {
   "cell_type": "code",
   "execution_count": 120,
   "id": "581e1f2d",
   "metadata": {},
   "outputs": [
    {
     "name": "stdout",
     "output_type": "stream",
     "text": [
      "   gender customer\n",
      "0    male    Smith\n",
      "1  female    Jenny\n"
     ]
    }
   ],
   "source": [
    "print(pd.DataFrame({\"gender\":gender, \"customer\": customer}))"
   ]
  },
  {
   "cell_type": "code",
   "execution_count": 129,
   "id": "b96364cc",
   "metadata": {},
   "outputs": [
    {
     "data": {
      "text/plain": [
       "Text(0, 0.5, 'Average Sales')"
      ]
     },
     "execution_count": 129,
     "metadata": {},
     "output_type": "execute_result"
    },
    {
     "data": {
      "image/png": "[encoded data removed]",
      "text/plain": [
       "<Figure size 1000x600 with 1 Axes>"
      ]
     },
     "metadata": {},
     "output_type": "display_data"
    }
   ],
   "source": [
    "me[['customer', 'sales']].groupby('customer').mean().sort_values(by='sales', ascending=False).plot.bar(figsize=(10,6),\\\n",
    "rot = 360, title='Average sales by customer')\n",
    "plt.xlabel('customer')\n",
    "plt.ylabel('Average Sales')"
   ]
  },
  {
   "cell_type": "code",
   "execution_count": 133,
   "id": "2ebc20ad",
   "metadata": {},
   "outputs": [],
   "source": [
    "my_lambda=lambda x: (x+4) + (x*x) - 4"
   ]
  },
  {
   "cell_type": "code",
   "execution_count": 138,
   "id": "84ab37e6",
   "metadata": {},
   "outputs": [
    {
     "name": "stdout",
     "output_type": "stream",
     "text": [
      "20\n"
     ]
    }
   ],
   "source": [
    "print(my_lambda(4))"
   ]
  },
  {
   "cell_type": "code",
   "execution_count": 150,
   "id": "b0ba404a",
   "metadata": {},
   "outputs": [],
   "source": [
    "from array import array\n",
    "import array as arr"
   ]
  },
  {
   "cell_type": "code",
   "execution_count": 178,
   "id": "836aab75",
   "metadata": {},
   "outputs": [],
   "source": [
    "a1 = np.array([1, 2, 3, 4])\n",
    "a2 = np.array(([10, 20, 30, 40], [100, 200, 300, 400]))\n",
    "a3 = np.vstack([a1, a2])"
   ]
  },
  {
   "cell_type": "code",
   "execution_count": 180,
   "id": "7d78d3e0",
   "metadata": {},
   "outputs": [
    {
     "data": {
      "text/html": [
       "<div>\n",
       "<style scoped>\n",
       "    .dataframe tbody tr th:only-of-type {\n",
       "        vertical-align: middle;\n",
       "    }\n",
       "\n",
       "    .dataframe tbody tr th {\n",
       "        vertical-align: top;\n",
       "    }\n",
       "\n",
       "    .dataframe thead th {\n",
       "        text-align: right;\n",
       "    }\n",
       "</style>\n",
       "<table border=\"1\" class=\"dataframe\">\n",
       "  <thead>\n",
       "    <tr style=\"text-align: right;\">\n",
       "      <th></th>\n",
       "      <th>store</th>\n",
       "      <th>customer</th>\n",
       "      <th>price</th>\n",
       "      <th>quantity</th>\n",
       "      <th>sales</th>\n",
       "      <th>discount_price</th>\n",
       "      <th>sales_group</th>\n",
       "      <th>cust_sales_group</th>\n",
       "    </tr>\n",
       "  </thead>\n",
       "  <tbody>\n",
       "    <tr>\n",
       "      <th>0</th>\n",
       "      <td>1</td>\n",
       "      <td>A</td>\n",
       "      <td>4</td>\n",
       "      <td>10</td>\n",
       "      <td>40</td>\n",
       "      <td>3.80</td>\n",
       "      <td>low</td>\n",
       "      <td>A_low</td>\n",
       "    </tr>\n",
       "    <tr>\n",
       "      <th>1</th>\n",
       "      <td>1</td>\n",
       "      <td>B</td>\n",
       "      <td>5</td>\n",
       "      <td>20</td>\n",
       "      <td>100</td>\n",
       "      <td>4.75</td>\n",
       "      <td>medium</td>\n",
       "      <td>B_medium</td>\n",
       "    </tr>\n",
       "    <tr>\n",
       "      <th>2</th>\n",
       "      <td>1</td>\n",
       "      <td>C</td>\n",
       "      <td>6</td>\n",
       "      <td>30</td>\n",
       "      <td>180</td>\n",
       "      <td>5.70</td>\n",
       "      <td>high</td>\n",
       "      <td>C_high</td>\n",
       "    </tr>\n",
       "    <tr>\n",
       "      <th>3</th>\n",
       "      <td>2</td>\n",
       "      <td>A</td>\n",
       "      <td>1</td>\n",
       "      <td>70</td>\n",
       "      <td>70</td>\n",
       "      <td>0.95</td>\n",
       "      <td>low</td>\n",
       "      <td>A_low</td>\n",
       "    </tr>\n",
       "    <tr>\n",
       "      <th>4</th>\n",
       "      <td>2</td>\n",
       "      <td>B</td>\n",
       "      <td>2</td>\n",
       "      <td>60</td>\n",
       "      <td>120</td>\n",
       "      <td>1.90</td>\n",
       "      <td>medium</td>\n",
       "      <td>B_medium</td>\n",
       "    </tr>\n",
       "    <tr>\n",
       "      <th>5</th>\n",
       "      <td>2</td>\n",
       "      <td>C</td>\n",
       "      <td>3</td>\n",
       "      <td>50</td>\n",
       "      <td>150</td>\n",
       "      <td>2.85</td>\n",
       "      <td>high</td>\n",
       "      <td>C_high</td>\n",
       "    </tr>\n",
       "  </tbody>\n",
       "</table>\n",
       "</div>"
      ],
      "text/plain": [
       "   store customer  price  quantity  sales  discount_price sales_group  \\\n",
       "0      1        A      4        10     40            3.80         low   \n",
       "1      1        B      5        20    100            4.75      medium   \n",
       "2      1        C      6        30    180            5.70        high   \n",
       "3      2        A      1        70     70            0.95         low   \n",
       "4      2        B      2        60    120            1.90      medium   \n",
       "5      2        C      3        50    150            2.85        high   \n",
       "\n",
       "  cust_sales_group  \n",
       "0            A_low  \n",
       "1         B_medium  \n",
       "2           C_high  \n",
       "3            A_low  \n",
       "4         B_medium  \n",
       "5           C_high  "
      ]
     },
     "execution_count": 180,
     "metadata": {},
     "output_type": "execute_result"
    }
   ],
   "source": [
    "me"
   ]
  },
  {
   "cell_type": "code",
   "execution_count": 190,
   "id": "8cebeab2",
   "metadata": {},
   "outputs": [],
   "source": [
    "me10 = me.iloc[:,[0,1,2,3,4,5]]\n",
    "me10 = pd.DataFrame(me10)"
   ]
  },
  {
   "cell_type": "code",
   "execution_count": 192,
   "id": "904de25f",
   "metadata": {},
   "outputs": [
    {
     "ename": "AttributeError",
     "evalue": "'list' object has no attribute 'loc'",
     "output_type": "error",
     "traceback": [
      "\u001b[1;31m---------------------------------------------------------------------------\u001b[0m",
      "\u001b[1;31mAttributeError\u001b[0m                            Traceback (most recent call last)",
      "\u001b[1;32m~\\AppData\\Local\\Temp\\ipykernel_34972\\1809888640.py\u001b[0m in \u001b[0;36m<module>\u001b[1;34m\u001b[0m\n\u001b[1;32m----> 1\u001b[1;33m \u001b[0mme10\u001b[0m \u001b[1;33m=\u001b[0m \u001b[0mme10\u001b[0m\u001b[1;33m.\u001b[0m\u001b[0mloc\u001b[0m\u001b[1;33m[\u001b[0m\u001b[0mlen\u001b[0m\u001b[1;33m(\u001b[0m\u001b[0mme10\u001b[0m\u001b[1;33m.\u001b[0m\u001b[0mindex\u001b[0m\u001b[1;33m)\u001b[0m\u001b[1;33m]\u001b[0m \u001b[1;33m=\u001b[0m \u001b[1;33m[\u001b[0m\u001b[1;36m3\u001b[0m\u001b[1;33m,\u001b[0m \u001b[1;34m'A'\u001b[0m\u001b[1;33m,\u001b[0m \u001b[1;36m5\u001b[0m\u001b[1;33m,\u001b[0m \u001b[1;36m80\u001b[0m\u001b[1;33m,\u001b[0m \u001b[1;36m110\u001b[0m\u001b[1;33m,\u001b[0m \u001b[1;36m4.75\u001b[0m\u001b[1;33m]\u001b[0m\u001b[1;33m\u001b[0m\u001b[1;33m\u001b[0m\u001b[0m\n\u001b[0m",
      "\u001b[1;31mAttributeError\u001b[0m: 'list' object has no attribute 'loc'"
     ]
    }
   ],
   "source": [
    "me10 = me10.loc[len(me10.index)] = [3, 'A', 5, 80, 110, 4.75]"
   ]
  },
  {
   "cell_type": "code",
   "execution_count": 198,
   "id": "96004a67",
   "metadata": {},
   "outputs": [
    {
     "data": {
      "text/html": [
       "<div>\n",
       "<style scoped>\n",
       "    .dataframe tbody tr th:only-of-type {\n",
       "        vertical-align: middle;\n",
       "    }\n",
       "\n",
       "    .dataframe tbody tr th {\n",
       "        vertical-align: top;\n",
       "    }\n",
       "\n",
       "    .dataframe thead th {\n",
       "        text-align: right;\n",
       "    }\n",
       "</style>\n",
       "<table border=\"1\" class=\"dataframe\">\n",
       "  <thead>\n",
       "    <tr style=\"text-align: right;\">\n",
       "      <th></th>\n",
       "      <th>customer</th>\n",
       "      <th>store</th>\n",
       "      <th>price</th>\n",
       "      <th>quantity</th>\n",
       "      <th>sales</th>\n",
       "      <th>discount_price</th>\n",
       "    </tr>\n",
       "  </thead>\n",
       "  <tbody>\n",
       "    <tr>\n",
       "      <th>0</th>\n",
       "      <td>A</td>\n",
       "      <td>1</td>\n",
       "      <td>4</td>\n",
       "      <td>10</td>\n",
       "      <td>40</td>\n",
       "      <td>3.80</td>\n",
       "    </tr>\n",
       "    <tr>\n",
       "      <th>1</th>\n",
       "      <td>B</td>\n",
       "      <td>1</td>\n",
       "      <td>5</td>\n",
       "      <td>20</td>\n",
       "      <td>100</td>\n",
       "      <td>4.75</td>\n",
       "    </tr>\n",
       "    <tr>\n",
       "      <th>2</th>\n",
       "      <td>C</td>\n",
       "      <td>1</td>\n",
       "      <td>6</td>\n",
       "      <td>30</td>\n",
       "      <td>180</td>\n",
       "      <td>5.70</td>\n",
       "    </tr>\n",
       "    <tr>\n",
       "      <th>3</th>\n",
       "      <td>A</td>\n",
       "      <td>2</td>\n",
       "      <td>1</td>\n",
       "      <td>70</td>\n",
       "      <td>70</td>\n",
       "      <td>0.95</td>\n",
       "    </tr>\n",
       "    <tr>\n",
       "      <th>4</th>\n",
       "      <td>B</td>\n",
       "      <td>2</td>\n",
       "      <td>2</td>\n",
       "      <td>60</td>\n",
       "      <td>120</td>\n",
       "      <td>1.90</td>\n",
       "    </tr>\n",
       "    <tr>\n",
       "      <th>5</th>\n",
       "      <td>C</td>\n",
       "      <td>2</td>\n",
       "      <td>3</td>\n",
       "      <td>50</td>\n",
       "      <td>150</td>\n",
       "      <td>2.85</td>\n",
       "    </tr>\n",
       "  </tbody>\n",
       "</table>\n",
       "</div>"
      ],
      "text/plain": [
       "  customer  store  price  quantity  sales  discount_price\n",
       "0        A      1      4        10     40            3.80\n",
       "1        B      1      5        20    100            4.75\n",
       "2        C      1      6        30    180            5.70\n",
       "3        A      2      1        70     70            0.95\n",
       "4        B      2      2        60    120            1.90\n",
       "5        C      2      3        50    150            2.85"
      ]
     },
     "execution_count": 198,
     "metadata": {},
     "output_type": "execute_result"
    }
   ],
   "source": [
    "me10 = me[['customer', 'store', 'price', 'quantity', 'sales', 'discount_price']]"
   ]
  },
  {
   "cell_type": "code",
   "execution_count": 203,
   "id": "bb2532a3",
   "metadata": {},
   "outputs": [
    {
     "data": {
      "text/html": [
       "<div>\n",
       "<style scoped>\n",
       "    .dataframe tbody tr th:only-of-type {\n",
       "        vertical-align: middle;\n",
       "    }\n",
       "\n",
       "    .dataframe tbody tr th {\n",
       "        vertical-align: top;\n",
       "    }\n",
       "\n",
       "    .dataframe thead th {\n",
       "        text-align: right;\n",
       "    }\n",
       "</style>\n",
       "<table border=\"1\" class=\"dataframe\">\n",
       "  <thead>\n",
       "    <tr style=\"text-align: right;\">\n",
       "      <th></th>\n",
       "      <th>store</th>\n",
       "      <th>price</th>\n",
       "      <th>quantity</th>\n",
       "      <th>sales</th>\n",
       "      <th>discount_price</th>\n",
       "    </tr>\n",
       "    <tr>\n",
       "      <th>customer</th>\n",
       "      <th></th>\n",
       "      <th></th>\n",
       "      <th></th>\n",
       "      <th></th>\n",
       "      <th></th>\n",
       "    </tr>\n",
       "  </thead>\n",
       "  <tbody>\n",
       "    <tr>\n",
       "      <th>A</th>\n",
       "      <td>3</td>\n",
       "      <td>5</td>\n",
       "      <td>80</td>\n",
       "      <td>110</td>\n",
       "      <td>4.75</td>\n",
       "    </tr>\n",
       "    <tr>\n",
       "      <th>B</th>\n",
       "      <td>3</td>\n",
       "      <td>7</td>\n",
       "      <td>80</td>\n",
       "      <td>220</td>\n",
       "      <td>6.65</td>\n",
       "    </tr>\n",
       "    <tr>\n",
       "      <th>C</th>\n",
       "      <td>3</td>\n",
       "      <td>9</td>\n",
       "      <td>80</td>\n",
       "      <td>330</td>\n",
       "      <td>8.55</td>\n",
       "    </tr>\n",
       "  </tbody>\n",
       "</table>\n",
       "</div>"
      ],
      "text/plain": [
       "          store  price  quantity  sales  discount_price\n",
       "customer                                               \n",
       "A             3      5        80    110            4.75\n",
       "B             3      7        80    220            6.65\n",
       "C             3      9        80    330            8.55"
      ]
     },
     "execution_count": 203,
     "metadata": {},
     "output_type": "execute_result"
    }
   ],
   "source": [
    "me10  = me.groupby('customer').sum()\n",
    "me10"
   ]
  },
  {
   "cell_type": "code",
   "execution_count": 204,
   "id": "6fac4f4d",
   "metadata": {},
   "outputs": [
    {
     "data": {
      "text/html": [
       "<div>\n",
       "<style scoped>\n",
       "    .dataframe tbody tr th:only-of-type {\n",
       "        vertical-align: middle;\n",
       "    }\n",
       "\n",
       "    .dataframe tbody tr th {\n",
       "        vertical-align: top;\n",
       "    }\n",
       "\n",
       "    .dataframe thead th {\n",
       "        text-align: right;\n",
       "    }\n",
       "</style>\n",
       "<table border=\"1\" class=\"dataframe\">\n",
       "  <thead>\n",
       "    <tr style=\"text-align: right;\">\n",
       "      <th></th>\n",
       "      <th>store</th>\n",
       "      <th>price</th>\n",
       "      <th>quantity</th>\n",
       "      <th>sales</th>\n",
       "      <th>discount_price</th>\n",
       "    </tr>\n",
       "    <tr>\n",
       "      <th>customer</th>\n",
       "      <th></th>\n",
       "      <th></th>\n",
       "      <th></th>\n",
       "      <th></th>\n",
       "      <th></th>\n",
       "    </tr>\n",
       "  </thead>\n",
       "  <tbody>\n",
       "    <tr>\n",
       "      <th>A</th>\n",
       "      <td>3</td>\n",
       "      <td>5</td>\n",
       "      <td>80</td>\n",
       "      <td>110</td>\n",
       "      <td>4.75</td>\n",
       "    </tr>\n",
       "    <tr>\n",
       "      <th>B</th>\n",
       "      <td>3</td>\n",
       "      <td>7</td>\n",
       "      <td>80</td>\n",
       "      <td>220</td>\n",
       "      <td>6.65</td>\n",
       "    </tr>\n",
       "    <tr>\n",
       "      <th>C</th>\n",
       "      <td>3</td>\n",
       "      <td>9</td>\n",
       "      <td>80</td>\n",
       "      <td>330</td>\n",
       "      <td>8.55</td>\n",
       "    </tr>\n",
       "  </tbody>\n",
       "</table>\n",
       "</div>"
      ],
      "text/plain": [
       "          store  price  quantity  sales  discount_price\n",
       "customer                                               \n",
       "A             3      5        80    110            4.75\n",
       "B             3      7        80    220            6.65\n",
       "C             3      9        80    330            8.55"
      ]
     },
     "execution_count": 204,
     "metadata": {},
     "output_type": "execute_result"
    }
   ],
   "source": [
    "me.groupby('customer').sum()"
   ]
  }
 ],
 "metadata": {
  "kernelspec": {
   "display_name": "Python 3 (ipykernel)",
   "language": "python",
   "name": "python3"
  },
  "language_info": {
   "codemirror_mode": {
    "name": "ipython",
    "version": 3
   },
   "file_extension": ".py",
   "mimetype": "text/x-python",
   "name": "python",
   "nbconvert_exporter": "python",
   "pygments_lexer": "ipython3",
   "version": "3.9.13"
  }
 },
 "nbformat": 4,
 "nbformat_minor": 5
}
