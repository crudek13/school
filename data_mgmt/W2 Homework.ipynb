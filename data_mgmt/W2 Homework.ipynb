{
 "cells": [
  {
   "cell_type": "code",
   "execution_count": 2,
   "id": "9a425938",
   "metadata": {},
   "outputs": [],
   "source": [
    "import pandas as pd"
   ]
  },
  {
   "cell_type": "code",
   "execution_count": 3,
   "id": "dbaa8f30",
   "metadata": {},
   "outputs": [
    {
     "name": "stdout",
     "output_type": "stream",
     "text": [
      "  State    Make    Model  Price_New  Price_Old Color\n",
      "0  Ohio    Ford   Fusion      29000      24000     S\n",
      "1  Ohio   Tesla   ModelT      35000      30000     S\n",
      "2  Ohio   Chevy   Malibu      34000      29000     R\n",
      "3  Ohio  Toyota  Corolla      30000      25000     Y\n",
      "4  Ohio  Toyota   Yarris      20000      15000     G\n"
     ]
    }
   ],
   "source": [
    "#Create Car Make Model and Price (New and Two Years Old) Data Frame\n",
    "mt = pd.DataFrame([['Ohio','Ford', 'Fusion', 29000, 24000, 'S'],\n",
    "['Ohio', 'Tesla','ModelT', 35000, 30000, 'S'],\n",
    "['Ohio', 'Chevy', 'Malibu', 34000, 29000, 'R'],\n",
    "['Ohio', 'Toyota', 'Corolla', 30000, 25000, 'Y'],\n",
    "['Ohio', 'Toyota', 'Yarris', 20000, 15000, 'G']],\n",
    "columns=['State', 'Make', 'Model', 'Price_New', 'Price_Old', 'Color'])\n",
    "print(mt)"
   ]
  },
  {
   "cell_type": "code",
   "execution_count": 7,
   "id": "47ac1cdb",
   "metadata": {},
   "outputs": [
    {
     "name": "stdout",
     "output_type": "stream",
     "text": [
      "  State    Make    Model  Price_New  Price_Old Color\n",
      "3  Ohio  Toyota  Corolla      30000      25000     Y\n",
      "4  Ohio  Toyota   Yarris      20000      15000     G\n"
     ]
    }
   ],
   "source": [
    "#q2a\n",
    "mt_1 = mt[mt['Make'] == 'Toyota']\n",
    "print(mt_1)"
   ]
  },
  {
   "cell_type": "code",
   "execution_count": 9,
   "id": "5f7a0fa7",
   "metadata": {},
   "outputs": [
    {
     "name": "stdout",
     "output_type": "stream",
     "text": [
      "     Make    Model  Price_Old  Price_New\n",
      "0    Ford   Fusion      24000      29000\n",
      "3  Toyota  Corolla      25000      30000\n",
      "4  Toyota   Yarris      15000      20000\n"
     ]
    }
   ],
   "source": [
    "#q2b\n",
    "mt_2 = mt[['Make', 'Model', 'Price_Old', 'Price_New']] [mt['Price_New'] < 32000]\n",
    "print(mt_2)"
   ]
  },
  {
   "cell_type": "code",
   "execution_count": 12,
   "id": "4868406d",
   "metadata": {},
   "outputs": [
    {
     "name": "stdout",
     "output_type": "stream",
     "text": [
      "     Model State  Price_Old  Price_New\n",
      "0   Fusion  Ohio      24000      29000\n",
      "1   ModelT  Ohio      30000      35000\n",
      "2   Malibu  Ohio      29000      34000\n",
      "3  Corolla  Ohio      25000      30000\n",
      "4   Yarris  Ohio      15000      20000\n"
     ]
    }
   ],
   "source": [
    "#q2c\n",
    "mt_3 = mt[['Model', 'State', 'Price_Old', 'Price_New']]\n",
    "print(mt_3)"
   ]
  },
  {
   "cell_type": "code",
   "execution_count": 3,
   "id": "e30b6d07",
   "metadata": {},
   "outputs": [],
   "source": [
    "covid = pd.read_excel (r'covid_data.xlsx')"
   ]
  },
  {
   "cell_type": "code",
   "execution_count": 4,
   "id": "2aadf03a",
   "metadata": {},
   "outputs": [
    {
     "data": {
      "text/html": [
       "<div>\n",
       "<style scoped>\n",
       "    .dataframe tbody tr th:only-of-type {\n",
       "        vertical-align: middle;\n",
       "    }\n",
       "\n",
       "    .dataframe tbody tr th {\n",
       "        vertical-align: top;\n",
       "    }\n",
       "\n",
       "    .dataframe thead th {\n",
       "        text-align: right;\n",
       "    }\n",
       "</style>\n",
       "<table border=\"1\" class=\"dataframe\">\n",
       "  <thead>\n",
       "    <tr style=\"text-align: right;\">\n",
       "      <th></th>\n",
       "      <th>continent</th>\n",
       "      <th>country</th>\n",
       "      <th>total_cases</th>\n",
       "      <th>new_cases</th>\n",
       "      <th>test_per_1M</th>\n",
       "      <th>population</th>\n",
       "      <th>pct_covid_case</th>\n",
       "      <th>severity</th>\n",
       "      <th>test_status</th>\n",
       "    </tr>\n",
       "  </thead>\n",
       "  <tbody>\n",
       "    <tr>\n",
       "      <th>0</th>\n",
       "      <td>North_America</td>\n",
       "      <td>USA</td>\n",
       "      <td>66162639</td>\n",
       "      <td>805500</td>\n",
       "      <td>2564221</td>\n",
       "      <td>334000000</td>\n",
       "      <td>0.20</td>\n",
       "      <td>High</td>\n",
       "      <td>High</td>\n",
       "    </tr>\n",
       "    <tr>\n",
       "      <th>1</th>\n",
       "      <td>Asia</td>\n",
       "      <td>India</td>\n",
       "      <td>36849474</td>\n",
       "      <td>267345</td>\n",
       "      <td>499061</td>\n",
       "      <td>1400000000</td>\n",
       "      <td>0.03</td>\n",
       "      <td>Low</td>\n",
       "      <td>Low</td>\n",
       "    </tr>\n",
       "    <tr>\n",
       "      <th>2</th>\n",
       "      <td>South_America</td>\n",
       "      <td>Brazil</td>\n",
       "      <td>22927203</td>\n",
       "      <td>111376</td>\n",
       "      <td>296801</td>\n",
       "      <td>215000000</td>\n",
       "      <td>0.11</td>\n",
       "      <td>Medium</td>\n",
       "      <td>Low</td>\n",
       "    </tr>\n",
       "    <tr>\n",
       "      <th>3</th>\n",
       "      <td>Europe</td>\n",
       "      <td>UK</td>\n",
       "      <td>15066395</td>\n",
       "      <td>99652</td>\n",
       "      <td>6286888</td>\n",
       "      <td>68433484</td>\n",
       "      <td>0.22</td>\n",
       "      <td>High</td>\n",
       "      <td>Very High</td>\n",
       "    </tr>\n",
       "    <tr>\n",
       "      <th>4</th>\n",
       "      <td>Europe</td>\n",
       "      <td>France</td>\n",
       "      <td>13569675</td>\n",
       "      <td>329371</td>\n",
       "      <td>3204349</td>\n",
       "      <td>65495283</td>\n",
       "      <td>0.21</td>\n",
       "      <td>High</td>\n",
       "      <td>High</td>\n",
       "    </tr>\n",
       "  </tbody>\n",
       "</table>\n",
       "</div>"
      ],
      "text/plain": [
       "       continent country  total_cases  new_cases  test_per_1M  population  \\\n",
       "0  North_America     USA     66162639     805500      2564221   334000000   \n",
       "1           Asia   India     36849474     267345       499061  1400000000   \n",
       "2  South_America  Brazil     22927203     111376       296801   215000000   \n",
       "3         Europe      UK     15066395      99652      6286888    68433484   \n",
       "4         Europe  France     13569675     329371      3204349    65495283   \n",
       "\n",
       "   pct_covid_case severity test_status  \n",
       "0            0.20     High        High  \n",
       "1            0.03      Low         Low  \n",
       "2            0.11   Medium         Low  \n",
       "3            0.22     High   Very High  \n",
       "4            0.21     High        High  "
      ]
     },
     "execution_count": 4,
     "metadata": {},
     "output_type": "execute_result"
    }
   ],
   "source": [
    "covid.head(5)"
   ]
  },
  {
   "cell_type": "code",
   "execution_count": 5,
   "id": "480a288f",
   "metadata": {},
   "outputs": [],
   "source": [
    "#3.1\n",
    "covid.insert(2,\"ab_country\",['US', 'IN', 'BR', 'UK', 'FR', 'RU', 'TU', 'IT', 'SP', 'GE'])"
   ]
  },
  {
   "cell_type": "code",
   "execution_count": 25,
   "id": "28829e86",
   "metadata": {},
   "outputs": [
    {
     "name": "stdout",
     "output_type": "stream",
     "text": [
      "       continent  country ab_country  total_cases  new_cases  test_per_1M  \\\n",
      "0  North_America      USA         US     66162639     805500      2564221   \n",
      "1           Asia    India         IN     36849474     267345       499061   \n",
      "2  South_America   Brazil         BR     22927203     111376       296801   \n",
      "3         Europe       UK         UK     15066395      99652      6286888   \n",
      "4         Europe   France         FR     13569675     329371      3204349   \n",
      "5           Asia   Russia         RU     10747125      23820      1680470   \n",
      "6           Asia   Turkey         TU     10339097      67857      1449647   \n",
      "7         Europe    Italy         IT      8341898     186253      2547049   \n",
      "8         Europe    Spain         SP      8093036     162508      1415353   \n",
      "9         Europe  Germany         GE      7885229      80080      1064457   \n",
      "\n",
      "   population  pct_covid_case severity test_status  \n",
      "0   334000000        0.198092     High        High  \n",
      "1  1400000000        0.026321      Low         Low  \n",
      "2   215000000        0.106638   Medium         Low  \n",
      "3    68433484        0.220161     High   Very High  \n",
      "4    65495283        0.207186     High        High  \n",
      "5   146000000        0.073610      Low        High  \n",
      "6    85731866        0.120598   Medium        High  \n",
      "7    60325300        0.138282   Medium        High  \n",
      "8    46782586        0.172992     High        High  \n",
      "9    84195273        0.093654      Low        High  \n"
     ]
    }
   ],
   "source": [
    "#3.2\n",
    "covid[\"pct_covid_case\"] = (covid[\"total_cases\"]/covid[\"population\"])"
   ]
  },
  {
   "cell_type": "code",
   "execution_count": 27,
   "id": "0e48534f",
   "metadata": {},
   "outputs": [],
   "source": [
    "#3.3\n",
    "covid.loc[covid['pct_covid_case'] >= .2, 'severity'] = 'High'\n",
    "covid.loc[(covid['pct_covid_case'] > .1) & (covid['pct_covid_case'] < .2), 'severity'] = 'Medium'\n",
    "covid.loc[covid['pct_covid_case'] < .1, 'severity'] = 'Low'"
   ]
  },
  {
   "cell_type": "code",
   "execution_count": 30,
   "id": "8b766457",
   "metadata": {},
   "outputs": [],
   "source": [
    "#3.4\n",
    "covid.loc[covid['test_per_1M'] > 5000000, 'test_status'] = 'Very High'\n",
    "covid.loc[(covid['test_per_1M'] > 1000000) & (covid['pct_covid_case'] < 5000000), 'test_status'] = 'Medium'\n",
    "covid.loc[covid['test_per_1M'] < 1000000, 'test_status'] = 'Low'"
   ]
  },
  {
   "cell_type": "code",
   "execution_count": 31,
   "id": "a5598161",
   "metadata": {},
   "outputs": [
    {
     "name": "stdout",
     "output_type": "stream",
     "text": [
      "       continent  country ab_country  total_cases  new_cases  test_per_1M  \\\n",
      "0  North_America      USA         US     66162639     805500      2564221   \n",
      "1           Asia    India         IN     36849474     267345       499061   \n",
      "2  South_America   Brazil         BR     22927203     111376       296801   \n",
      "3         Europe       UK         UK     15066395      99652      6286888   \n",
      "4         Europe   France         FR     13569675     329371      3204349   \n",
      "5           Asia   Russia         RU     10747125      23820      1680470   \n",
      "6           Asia   Turkey         TU     10339097      67857      1449647   \n",
      "7         Europe    Italy         IT      8341898     186253      2547049   \n",
      "8         Europe    Spain         SP      8093036     162508      1415353   \n",
      "9         Europe  Germany         GE      7885229      80080      1064457   \n",
      "\n",
      "   population  pct_covid_case severity test_status  \n",
      "0   334000000        0.198092   Medium      Medium  \n",
      "1  1400000000        0.026321      Low         Low  \n",
      "2   215000000        0.106638   Medium         Low  \n",
      "3    68433484        0.220161     High      Medium  \n",
      "4    65495283        0.207186     High      Medium  \n",
      "5   146000000        0.073610      Low      Medium  \n",
      "6    85731866        0.120598   Medium      Medium  \n",
      "7    60325300        0.138282   Medium      Medium  \n",
      "8    46782586        0.172992   Medium      Medium  \n",
      "9    84195273        0.093654      Low      Medium  \n"
     ]
    }
   ],
   "source": [
    "print(covid)"
   ]
  }
 ],
 "metadata": {
  "kernelspec": {
   "display_name": "Python 3 (ipykernel)",
   "language": "python",
   "name": "python3"
  },
  "language_info": {
   "codemirror_mode": {
    "name": "ipython",
    "version": 3
   },
   "file_extension": ".py",
   "mimetype": "text/x-python",
   "name": "python",
   "nbconvert_exporter": "python",
   "pygments_lexer": "ipython3",
   "version": "3.9.13"
  }
 },
 "nbformat": 4,
 "nbformat_minor": 5
}
